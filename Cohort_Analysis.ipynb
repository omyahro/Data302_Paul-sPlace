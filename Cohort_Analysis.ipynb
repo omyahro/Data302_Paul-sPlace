{
  "nbformat": 4,
  "nbformat_minor": 0,
  "metadata": {
    "colab": {
      "provenance": []
    },
    "kernelspec": {
      "name": "python3",
      "display_name": "Python 3"
    },
    "language_info": {
      "name": "python"
    }
  },
  "cells": [
    {
      "cell_type": "code",
      "source": [
        "import pandas as pd\n",
        "\n",
        "\n",
        "df = pd.read_excel(\"COHORT ANALYSIS.xlsx\")"
      ],
      "metadata": {
        "id": "Tx9mQCe9QL2n"
      },
      "execution_count": 1,
      "outputs": []
    },
    {
      "cell_type": "code",
      "source": [
        "\n",
        "# Clean column names (remove symbols and replace spaces)\n",
        "df.columns = df.columns.str.strip().str.replace(r'[^\\w\\s]', '', regex=True).str.replace(' ', '_')\n",
        "\n",
        "# Corrected column names after cleaning\n",
        "goal_col = 'Goal__spots_to_fill'\n",
        "offers_col = 'Enrollment_offers_extended'\n",
        "\n",
        "# Drop rows with missing values in relevant columns\n",
        "df = df.dropna(subset=[goal_col, offers_col]).copy()\n",
        "\n",
        "# Convert to numeric safely\n",
        "df.loc[:, goal_col] = pd.to_numeric(df[goal_col], errors='coerce')\n",
        "df.loc[:, offers_col] = pd.to_numeric(df[offers_col], errors='coerce')\n",
        "\n",
        "# Calculate stats\n",
        "cohorts_per_year = 6\n",
        "avg_goal = df[goal_col].mean()\n",
        "annual_acceptance_capacity = avg_goal * cohorts_per_year\n",
        "\n",
        "\n",
        "# Output\n",
        "print(f\"✅ Avg. accepted applicants per cohort: {avg_goal:.0f}\")\n",
        "print(f\"📆 Estimated annual acceptance capacity (6 cohorts): {annual_acceptance_capacity:.0f}\")\n",
        "\n"
      ],
      "metadata": {
        "colab": {
          "base_uri": "https://localhost:8080/"
        },
        "id": "W-R_RS_2WnDD",
        "outputId": "12baa60d-b4b0-4c10-ee46-6602b69c6139"
      },
      "execution_count": 3,
      "outputs": [
        {
          "output_type": "stream",
          "name": "stdout",
          "text": [
            "✅ Avg. accepted applicants per cohort: 11\n",
            "📆 Estimated annual acceptance capacity (6 cohorts): 66\n",
            "🕓 Avg. waitlist per cohort: 4\n",
            "📋 Estimated annual waitlist capacity: 25\n"
          ]
        }
      ]
    },
    {
      "cell_type": "code",
      "source": [
        "# Focused columns\n",
        "df2_filtered = df[['Applications_Submitted',\n",
        "                  '_applicants_who_Completed_Application_Packet',\n",
        "                  'Eligible_applicants',\n",
        "                  'Enrolled__Week_2']].dropna()\n",
        "\n",
        "# Calculate stage-to-stage conversion rates\n",
        "df2_filtered['Submit_to_Complete_Rate'] = df2_filtered['_applicants_who_Completed_Application_Packet'] / df2_filtered['Applications_Submitted']\n",
        "df2_filtered['Complete_to_Eligible_Rate'] = df2_filtered['Eligible_applicants'] / df2_filtered['_applicants_who_Completed_Application_Packet']\n",
        "df2_filtered['Eligible_to_Enrolled_Rate'] = df2_filtered['Enrolled__Week_2'] / df2_filtered['Eligible_applicants']\n",
        "\n",
        "# Calculate overall conversion rate from Applications Submitted to Enrolled\n",
        "df2_filtered['Total_Conversion_Rate'] = df2_filtered['Enrolled__Week_2'] / df2_filtered['Applications_Submitted']\n",
        "\n",
        "# Average total conversion rate\n",
        "avg_conversion_rate = df2_filtered['Total_Conversion_Rate'].mean()\n",
        "\n",
        "# Goal per cohort\n",
        "target_enrolled = 11\n",
        "\n",
        "# Calculate how many applicants you'd need (on average) to meet target\n",
        "required_applicants = round(target_enrolled / avg_conversion_rate)\n",
        "\n",
        "print(f\"🎯 To consistently enroll {target_enrolled} students per cohort, you should aim for at least {required_applicants} applications submitted per cohort.\")\n",
        "print(f\"📊 Based on an average conversion rate of {avg_conversion_rate:.2%} from applications to enrolled.\")\n"
      ],
      "metadata": {
        "colab": {
          "base_uri": "https://localhost:8080/"
        },
        "id": "tZ0vDmNhVjz4",
        "outputId": "b4854acc-7426-4ad8-bf08-b6bb7edbfc3c"
      },
      "execution_count": 9,
      "outputs": [
        {
          "output_type": "stream",
          "name": "stdout",
          "text": [
            "🎯 To consistently enroll 11 students per cohort, you should aim for at least 52 applications submitted per cohort.\n",
            "📊 Based on an average conversion rate of 21.33% from applications to enrolled.\n"
          ]
        }
      ]
    },
    {
      "cell_type": "code",
      "source": [
        "# Clean column names (to remove spaces and special characters)\n",
        "df.columns = df.columns.str.strip().str.replace(r'[^\\w\\s]', '', regex=True).str.replace(' ', '_')\n",
        "\n",
        "# Define the relevant columns\n",
        "offers_col = 'Enrollment_offers_extended'  # Total offers extended\n",
        "enrolled_col = 'Enrolled__Week_2'  # Number of students enrolled by Week 2\n",
        "\n",
        "# Drop rows with missing values in the relevant columns\n",
        "df = df.dropna(subset=[offers_col, enrolled_col])\n",
        "\n",
        "# Calculate No-Shows\n",
        "df.loc[:, 'No_Shows'] = df[offers_col] - df[enrolled_col]\n",
        "\n",
        "# Calculate No-Show Rate\n",
        "df.loc[:, 'No_Show_Rate'] = df['No_Shows'] / df[offers_col]\n",
        "\n",
        "# Calculate the average No-Show Rate across all cohorts\n",
        "avg_no_show_rate = df['No_Show_Rate'].mean()\n",
        "\n",
        "# Output the result\n",
        "print(f\"📉 Average No-Show Rate: {avg_no_show_rate:.2f} or {avg_no_show_rate*100:.0f}%\")\n",
        "\n"
      ],
      "metadata": {
        "colab": {
          "base_uri": "https://localhost:8080/"
        },
        "id": "BOYKJIh6mvY3",
        "outputId": "fe821f9c-d1cc-4ba8-fe5b-b6cffa7e72c5"
      },
      "execution_count": 13,
      "outputs": [
        {
          "output_type": "stream",
          "name": "stdout",
          "text": [
            "📉 Average No-Show Rate: 0.23 or 23%\n"
          ]
        }
      ]
    },
    {
      "cell_type": "code",
      "source": [
        "\n",
        "# Calculate the overall Acceptance Rate across all cohorts\n",
        "total_graduates = df['Graduated'].sum()\n",
        "total_offers_extended = df['Enrollment_offers_extended'].sum()\n",
        "\n",
        "# Overall Acceptance Rate\n",
        "overall_acceptance_rate = total_graduates / total_offers_extended\n",
        "\n",
        "# Define target enrollment\n",
        "target_enrollment = 11\n",
        "\n",
        "# Calculate the generalized number of offers needed to meet the target enrollment\n",
        "offers_needed = target_enrollment / overall_acceptance_rate\n",
        "\n",
        "no_show_rate = avg_no_show_rate\n",
        "# Calculate the number of waitlist offers based on no-show/withdrawal estimation\n",
        "waitlist_offers_needed = (target_enrollment / (1 - no_show_rate)) - target_enrollment\n",
        "\n",
        "# Calculate total offers needed (including waitlist offers)\n",
        "total_offers_needed = offers_needed + waitlist_offers_needed\n",
        "\n",
        "# Output the generalized offer results\n",
        "print(f\"🎯 Based on historical data, to consistently enroll {target_enrollment} students per cohort,\")\n",
        "print(f\"you should aim to send out approximately {offers_needed:.0f} offers per cohort.\")\n",
        "print(f\"📋 With a 23% no-show rate, you should extend around {waitlist_offers_needed:.0f} additional offers for the waitlist.\")\n",
        "print(f\"💼 Total offers to send per cohort: {total_offers_needed:.0f}\")\n",
        "\n"
      ],
      "metadata": {
        "colab": {
          "base_uri": "https://localhost:8080/"
        },
        "id": "ngCWfKMonOsn",
        "outputId": "fb5a1926-c311-4b01-88b7-05873c8ac01d"
      },
      "execution_count": 15,
      "outputs": [
        {
          "output_type": "stream",
          "name": "stdout",
          "text": [
            "🎯 Based on historical data, to consistently enroll 11 students per cohort,\n",
            "you should aim to send out approximately 19 offers per cohort.\n",
            "📋 With a 20% no-show rate, you should extend around 3 additional offers for the waitlist.\n",
            "💼 Total offers to send per cohort: 23\n"
          ]
        }
      ]
    },
    {
      "cell_type": "code",
      "source": [
        "\n",
        "target_enrollment_per_cohort = 11\n",
        "\n",
        "applications_submitted_per_cohort = 52\n",
        "\n",
        "offers_extended_per_cohort = 19\n",
        "\n",
        "cohorts_per_year = 6\n",
        "\n",
        "no_show_rate = 0.23\n",
        "\n",
        "# Calculate total offers needed per cohort, including waitlist offers\n",
        "waitlist_offers_per_cohort = round(waitlist_offers_needed)\n",
        "\n",
        "# Total offers per cohort (accepted + waitlist)\n",
        "total_offers_per_cohort = offers_extended_per_cohort + waitlist_offers_per_cohort\n",
        "\n",
        "# Calculate percentages\n",
        "percentage_accepted_of_total_applicants = (target_enrollment_per_cohort / applications_submitted_per_cohort) * 100\n",
        "percentage_offers_to_accepted = (offers_extended_per_cohort / total_offers_per_cohort) * 100\n",
        "percentage_offers_to_waitlist = (waitlist_offers_per_cohort / total_offers_per_cohort) * 100\n",
        "\n",
        "# Estimated total offers for the year\n",
        "total_offers_per_year = total_offers_per_cohort * cohorts_per_year\n",
        "\n",
        "# Output the calculated values\n",
        "print(f\"✅ Avg. accepted applicants per cohort: {target_enrollment_per_cohort}\")\n",
        "print(f\"📆 Estimated annual acceptance capacity (6 cohorts): {target_enrollment_per_cohort * cohorts_per_year}\")\n",
        "print(f\"🎯 To consistently enroll {target_enrollment_per_cohort} students per cohort,\")\n",
        "print(f\"    you should aim for at least {applications_submitted_per_cohort} applications submitted per cohort.\")\n",
        "print(f\"📊 Based on an average conversion rate of {(target_enrollment_per_cohort / applications_submitted_per_cohort) * 100:.2f}% from applications to enrolled.\")\n",
        "print(f\"🎯 Based on historical data, to consistently enroll {target_enrollment_per_cohort} students per cohort,\")\n",
        "print(f\"    you should aim to send out approximately {offers_extended_per_cohort} offers per cohort.\")\n",
        "print(f\"📋 With a {no_show_rate * 100}% no-show rate, you should extend around {waitlist_offers_per_cohort} additional offers for the waitlist.\")\n",
        "print(f\"💼 Total offers to send per cohort: {total_offers_per_cohort}\")\n",
        "print(f\"Percentage of accepted applicants out of total applicants per cohort: {percentage_accepted_of_total_applicants:.2f}%\")\n",
        "print(f\"Percentage of offers extended to accepted students: {percentage_offers_to_accepted:.2f}%\")\n",
        "print(f\"Percentage of offers extended to waitlisted students: {percentage_offers_to_waitlist:.2f}%\")\n"
      ],
      "metadata": {
        "colab": {
          "base_uri": "https://localhost:8080/"
        },
        "id": "L4W8pkOkqpqV",
        "outputId": "f5fd048d-961c-45c3-f65f-a1d2a64f44f6"
      },
      "execution_count": 17,
      "outputs": [
        {
          "output_type": "stream",
          "name": "stdout",
          "text": [
            "✅ Avg. accepted applicants per cohort: 11\n",
            "📆 Estimated annual acceptance capacity (6 cohorts): 66\n",
            "🎯 To consistently enroll 11 students per cohort,\n",
            "    you should aim for at least 52 applications submitted per cohort.\n",
            "📊 Based on an average conversion rate of 21.15% from applications to enrolled.\n",
            "🎯 Based on historical data, to consistently enroll 11 students per cohort,\n",
            "    you should aim to send out approximately 19 offers per cohort.\n",
            "📋 With a 23.0% no-show rate, you should extend around 3 additional offers for the waitlist.\n",
            "💼 Total offers to send per cohort: 22\n",
            "Percentage of accepted applicants out of total applicants per cohort: 21.15%\n",
            "Percentage of offers extended to accepted students: 86.36%\n",
            "Percentage of offers extended to waitlisted students: 13.64%\n"
          ]
        }
      ]
    }
  ]
}